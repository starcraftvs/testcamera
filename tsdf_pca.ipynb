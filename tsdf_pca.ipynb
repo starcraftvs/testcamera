{
  "nbformat": 4,
  "nbformat_minor": 0,
  "metadata": {
    "colab": {
      "provenance": [],
      "collapsed_sections": [],
      "include_colab_link": true
    },
    "kernelspec": {
      "name": "python3",
      "display_name": "Python 3"
    }
  },
  "cells": [
    {
      "cell_type": "markdown",
      "metadata": {
        "id": "view-in-github",
        "colab_type": "text"
      },
      "source": [
        "<a href=\"https://colab.research.google.com/github/starcraftvs/testcamera/blob/master/tsdf_pca.ipynb\" target=\"_parent\"><img src=\"https://colab.research.google.com/assets/colab-badge.svg\" alt=\"Open In Colab\"/></a>"
      ]
    },
    {
      "cell_type": "code",
      "metadata": {
        "id": "AcXVte4UFe0j"
      },
      "source": [
        "#@title Install required modules\n",
        "!pip install --quiet -U gdown\n",
        "!pip install --quiet tensorflow-graphics"
      ],
      "execution_count": null,
      "outputs": []
    },
    {
      "cell_type": "code",
      "metadata": {
        "id": "pv2WT7JaFiVb"
      },
      "source": [
        "#@title Useful imports\n",
        "\n",
        "import numpy as np\n",
        "import gdown\n",
        "import h5py\n",
        "import matplotlib.pyplot as plt\n",
        "from skimage import measure\n",
        "from tensorflow_graphics.notebooks import threejs_visualization"
      ],
      "execution_count": null,
      "outputs": []
    },
    {
      "cell_type": "code",
      "metadata": {
        "id": "7UIrLPbSsaz7"
      },
      "source": [
        "#@title Download models\n",
        "url = 'https://drive.google.com/uc?id=1Im74Wbj807iOLlWQpkTHIlislvCHsSVZ'\n",
        "output = 'tsdf_pca_cars_bicycles.tar.gz'\n",
        "gdown.cached_download(url, output, quiet=False, postprocess=gdown.extractall)"
      ],
      "execution_count": null,
      "outputs": []
    },
    {
      "cell_type": "code",
      "metadata": {
        "id": "kxlsyDADemaM"
      },
      "source": [
        "#@title Helper functions\n",
        "\n",
        "class TSDFPCA(object):\n",
        "  def __init__(self, model_filepath):\n",
        "    with h5py.File(model_filepath, 'r') as h5_file:\n",
        "      self.basis = h5_file['tsdf_basis'].value\n",
        "      self.mean = h5_file['tsdf_mean'].value\n",
        "      self.thickness = np.squeeze(h5_file['thicknesses'].value)\n",
        "      self.offset = - np.array(self.mean.shape) * self.thickness / 2.0\n",
        "\n",
        "  def decode_to_tsdf(self, shape_code):\n",
        "    return np.tensordot(self.basis, shape_code, axes=1) + self.mean\n",
        "\n",
        "  def decode_to_mesh(self, shape_code):\n",
        "    verts, faces, normals, values = measure.marching_cubes_lewiner(self.decode_to_tsdf(shape_code),level= 0, spacing=self.thickness)\n",
        "    return {\"vertices\": verts + self.offset, \"faces\": faces}\n",
        "\n",
        "  def code_size(self):\n",
        "    return self.basis.shape[-1]\n",
        "\n",
        "def visualize_mesh(mesh):\n",
        "  camera = threejs_visualization.build_perspective_camera(\n",
        "        field_of_view=30, position=(0.0, -1.5, 1.0))\n",
        "  camera.lookAt ( 0.0, 0.0, 0.0)\n",
        "  threejs_visualization.triangular_mesh_renderer([mesh], camera=camera, width=300, height=300)"
      ],
      "execution_count": null,
      "outputs": []
    },
    {
      "cell_type": "code",
      "metadata": {
        "id": "B9aGlP7TuBFE"
      },
      "source": [
        "#@title Load and create a TSDFPCA model.\n",
        "model = TSDFPCA('car_dpca20_128_ds1.h5')"
      ],
      "execution_count": null,
      "outputs": []
    },
    {
      "cell_type": "code",
      "metadata": {
        "id": "00drCDOvsX3j"
      },
      "source": [
        "#@title Decode random code vectors and display decoded mesh.\n",
        "code_size = model.code_size()\n",
        "random_code = lambda : np.random.uniform(low=-40, high=40, size=code_size)\n",
        "\n",
        "visualize_mesh(model.decode_to_mesh(np.zeros(code_size)))\n",
        "visualize_mesh(model.decode_to_mesh(random_code()))\n",
        "visualize_mesh(model.decode_to_mesh(random_code()))\n",
        "visualize_mesh(model.decode_to_mesh(random_code()))\n",
        "visualize_mesh(model.decode_to_mesh(random_code()))"
      ],
      "execution_count": null,
      "outputs": []
    }
  ]
}